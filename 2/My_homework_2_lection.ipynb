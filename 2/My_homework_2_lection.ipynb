{
 "cells": [
  {
   "cell_type": "markdown",
   "metadata": {},
   "source": [
    "**Задание 1**. Даны 2 строки: *long_phrase* и *short_phrase*. \n",
    "Напишите код, который проверяет действительно ли длинная фраза *long_phrase* длиннее короткой *short_phrase*. И выводит *True* или *False* в зависимости от результата сравнения."
   ]
  },
  {
   "cell_type": "code",
   "execution_count": null,
   "metadata": {},
   "outputs": [],
   "source": [
    "long_phrase = 'Насколько проще было бы писать программы, если бы не заказчики'\n",
    "short_phrase = '640Кб должно хватить для любых задач. Билл Гейтс (по легенде)'"
   ]
  },
  {
   "cell_type": "code",
   "execution_count": 4,
   "metadata": {},
   "outputs": [
    {
     "name": "stdout",
     "output_type": "stream",
     "text": [
      "True\n"
     ]
    }
   ],
   "source": [
    "long_phrase = 'Насколько проще было бы писать программы, если бы не заказчики'\n",
    "short_phrase = '640Кб должно хватить для любых задач. Билл Гейтс (по легенде)'\n",
    "if len(long_phrase)>len(short_phrase):\n",
    "    print(\"True\")\n",
    "else:\n",
    "    print('False')"
   ]
  },
  {
   "cell_type": "markdown",
   "metadata": {},
   "source": [
    "**Задание 2**. Дано значение объема файла в байтах (*в мегабайте 2^20 байт*). Напишите перевод этого значения в мегабайты в формате: \"*Объем файла равен 213.68Mb*\"."
   ]
  },
  {
   "cell_type": "code",
   "execution_count": 29,
   "metadata": {},
   "outputs": [
    {
     "name": "stdout",
     "output_type": "stream",
     "text": [
      "Объем файла равен 5.0\n",
      "Mb\n"
     ]
    }
   ],
   "source": [
    "x = 5242880\n",
    "y = x /(2**20)\n",
    "print('Объем файла равен', y) \n",
    "print('Mb')\n"
   ]
  },
  {
   "cell_type": "markdown",
   "metadata": {},
   "source": [
    "**Задание 3**. Разработать приложение для определения знака зодиака по дате рождения. Пример:\n",
    "\n",
    "Введите месяц: март\n",
    "\n",
    "Введите число: 6\n",
    "\n",
    "Вывод:\n",
    "Рыбы"
   ]
  },
  {
   "cell_type": "code",
   "execution_count": 41,
   "metadata": {},
   "outputs": [
    {
     "name": "stdout",
     "output_type": "stream",
     "text": [
      "Введите число рожденья 19\n",
      "Введите месяц рожденья января\n",
      "Козерог\n"
     ]
    }
   ],
   "source": [
    "day = int(input('Введите число рожденья '))\n",
    "month = input('Введите месяц рожденья ')\n",
    "if (day > 20 and month == ('марта')) or (day <= 20 and month == ('апреля')):\n",
    "    print('ОВЕН')\n",
    "elif (day > 20 and month == ('апреля')) or (day < 21 and month == ('мая')):\n",
    "    print('Телец')\n",
    "elif (day > 20 and month == ('мая')) or (day < 21 and month == ('июня')):\n",
    "    print('Близнецы')\n",
    "elif (day > 20 and month == ('июня')) or (day < 23 and month == ('июля')):\n",
    "    print('Рак')\n",
    "elif (day > 22 and month == ('июля')) or (day < 23 and month == ('августа')):\n",
    "    print('Лев')\n",
    "elif (day > 22 and month == ('августа')) or (day < 23 and month == ('сентября')):\n",
    "    print('Дева')\n",
    "elif (day > 22 and month == ('сентября')) or (day < 23 and month == ('октября')):\n",
    "    print('Весы')\n",
    "elif (day > 22 and month == ('октября')) or (day < 22 and month == ('ноября')):\n",
    "    print('Скорпион')\n",
    "elif (day > 21 and month == ('ноября')) or (day < 22 and month == ('декабря')):\n",
    "    print('Стрелец')\n",
    "elif (day > 21 and month == ('декабря')) or (day < 20 and month == ('января')):\n",
    "    print('Козерог')\n",
    "elif (day > 19 and month == ('января')) or (day < 19 and month == ('февраля')):\n",
    "    print('Водолей')\n",
    "elif (day > 18 and month == ('февраля')) or (day < 21 and month == ('марта')):\n",
    "    print('Рыбы')\n"
   ]
  },
  {
   "cell_type": "markdown",
   "metadata": {},
   "source": [
    "**Задание 4**. Нужно разработать приложение для финансового планирования.\n",
    "Приложение учитывает сколько уходит на ипотеку, \"на жизнь\" и сколько нужно отложить на пенсию.\n",
    "Пользователь вводит:\n",
    "- заработанную плату в месяц.\n",
    "- сколько процентов от ЗП уходит на ипотеку.\n",
    "- сколько процентов от ЗП уходит \"на жизнь\".\n",
    "- сколько раз приходит премия в год.\n",
    "\n",
    "Остальная часть заработанной платы откладывается на пенсию.\n",
    "\n",
    "Также пользователю приходит премия в размере зарплаты, от которой половина уходит на отпуск, а вторая половина откладывается.\n",
    "\n",
    "Программа должна учитывать сколько премий было в год.\n",
    "\n",
    "Нужно вывести сколько денег тратит пользователь на ипотеку и сколько он накопит за год.\n",
    "\n",
    "Пример:\n",
    "\n",
    "Введите заработанную плату в месяц: 100000\n",
    "\n",
    "Введите сколько процентов уходит на ипотеку: 30\n",
    "\n",
    "Введите сколько процентов уходит на жизнь: 50\n",
    "\n",
    "Введите количество премий за год: 2\n",
    "\n",
    "Вывод:\n",
    "На ипотеку было потрачено: 360000 рублей\n",
    "Было накоплено: 340000 рублей"
   ]
  },
  {
   "cell_type": "code",
   "execution_count": 55,
   "metadata": {},
   "outputs": [
    {
     "name": "stdout",
     "output_type": "stream",
     "text": [
      "Введите свою ЗП 125000\n",
      "Введите сколько процентов уходит на ипотеку 30\n",
      "Введите сколько процентов уходит на жизнь 40\n",
      "Введите кол-во премий в год 2\n",
      "На ипотеку было потрачено:  450000.0\n",
      "Было накоплено на пенсию:  637500.0\n"
     ]
    }
   ],
   "source": [
    "salory = int(input('Введите свою ЗП '))\n",
    "ipo = int(input('Введите сколько процентов уходит на ипотеку '))\n",
    "life = int(input('Введите сколько процентов уходит на жизнь '))\n",
    "prem = int(input('Введите кол-во премий в год '))\n",
    "vacation = salory/2\n",
    "prem1 = prem*salory\n",
    "ost_month = (salory-((salory/100)* ipo)-((salory/100) * life))\n",
    "ost_year = (ost_month*12)\n",
    "prem_vacation = prem1-vacation\n",
    "save = ost_year + prem_vacation\n",
    "ipo_paid = ((salory/100)* ipo)*12\n",
    "print('На ипотеку было потрачено: ', ipo_paid)\n",
    "print('Было накоплено на пенсию: ', save)\n",
    "\n",
    "\n",
    "\n",
    "      \n"
   ]
  },
  {
   "cell_type": "code",
   "execution_count": null,
   "metadata": {},
   "outputs": [],
   "source": [
    "\n",
    "\n"
   ]
  }
 ],
 "metadata": {
  "kernelspec": {
   "display_name": "Python 3 (ipykernel)",
   "language": "python",
   "name": "python3"
  },
  "language_info": {
   "codemirror_mode": {
    "name": "ipython",
    "version": 3
   },
   "file_extension": ".py",
   "mimetype": "text/x-python",
   "name": "python",
   "nbconvert_exporter": "python",
   "pygments_lexer": "ipython3",
   "version": "3.9.13"
  }
 },
 "nbformat": 4,
 "nbformat_minor": 2
}
